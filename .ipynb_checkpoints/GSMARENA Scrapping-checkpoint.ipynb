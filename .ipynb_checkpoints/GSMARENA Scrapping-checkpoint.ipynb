{
 "cells": [
  {
   "cell_type": "markdown",
   "metadata": {},
   "source": [
    "# Mobile Phone's Reviews Scraping Using Gsmarena.com\n"
   ]
  },
  {
   "cell_type": "markdown",
   "metadata": {},
   "source": [
    "we try to make a web service for scraping phone's Reviews we will use BeautifulSoup as Scraping Lib and will use GSMRENA.com \n",
    "to get our Data from .\n",
    "\n",
    "### how to know what's a Right architecture for Structure ? \n",
    "\n",
    ". first you want to know how to Start making this web service , the first point we need to start checking our data provider yea i mean gsmrena and look closley at this website , and i observed it uses query string and that's what we are want exactly .. when you try using beautifulsoup the first point you want to know is you need query string that's Example of Query String :\n",
    "https://www.gsmarena.com/res.php3?sSearch=apple\n",
    "and that's part \" ?sSearch=apple  \" is a query string with a param sSearch equal apple ..\n",
    "\n",
    "let's see website's Architecture and observe what is the best way to collect theese Next Point :\n",
    "- Searching : https://www.gsmarena.com/res.php3?sSearch=apple then you can get id and Searching any mobile\n",
    "- Reviews : https://www.gsmarena.com/oppo_f3-review-1608.php\n",
    "- Mobile Details : https://www.gsmarena.com/oppo_f3-8669.php\n",
    "\n",
    "Looking at Mobile Details Url what you obeserved right now .. yea this is a pattern at Query /brand_type_PhoneId.php\n",
    "here our starting point\n"
   ]
  },
  {
   "cell_type": "markdown",
   "metadata": {},
   "source": [
    "### First Import Libiries we will use BeautifulSoup , urlopen , HTML"
   ]
  },
  {
   "cell_type": "code",
   "execution_count": 1,
   "metadata": {},
   "outputs": [],
   "source": [
    "import sys\n",
    "import json\n",
    "import requests\n",
    "import re\n",
    "from urllib.request import urlopen\n",
    "from bs4 import BeautifulSoup\n",
    "from IPython.core.display import display, HTML\n"
   ]
  },
  {
   "cell_type": "markdown",
   "metadata": {},
   "source": [
    "## Searching Function Arcitecture :\n",
    "- Create Url Function For Passing url with it\n",
    "- Create GetResults Function (Function's Architecture):\n",
    "    - First open url using urlopen,url Function\n",
    "    - Get name and img for Resulted Phones by BeautifulSoup find() and find_all()\n",
    "    - For Each phone name Clean and replace then Get id by substring function or indexing\n",
    "    - Return Data after Do that !\n",
    "- Create DisplayResults by using HTML and images"
   ]
  },
  {
   "cell_type": "code",
   "execution_count": 2,
   "metadata": {},
   "outputs": [],
   "source": [
    "def url(phone):\n",
    "    return \"https://www.gsmarena.com/results.php3?sQuickSearch=yes&sName={}\".format(phone.replace(' ','%20'))"
   ]
  },
  {
   "cell_type": "code",
   "execution_count": 25,
   "metadata": {},
   "outputs": [],
   "source": [
    "def GetResults(phone):\n",
    "    \n",
    "    html=urlopen(url(phone))\n",
    "    allPhoneData= []\n",
    "    try :\n",
    "        soup = BeautifulSoup(html, 'html.parser')\n",
    "        phones = soup.find(\"div\", {\"class\": \"makers\"}).find_all('li')\n",
    "        links =  soup.find(\"div\", {\"class\": \"makers\"}).find_all('a')\n",
    "        imgs   = soup.find(\"div\", {\"class\": \"makers\"}).find_all('img')\n",
    "                \n",
    "        for link,img in zip(links,imgs):\n",
    "            _phoneName=link['href'][:-8].replace('_',' ').replace('-',' ')\n",
    "            _id=link['href'][-8:-4]\n",
    "            phoneData={\n",
    "                'href':link['href'],\n",
    "                'name':_phoneName,\n",
    "                'id':_id,\n",
    "                'img':img['src']\n",
    "            }\n",
    "            allPhoneData.append(phoneData)        \n",
    "        return allPhoneData\n",
    "    except: \n",
    "        return 'No Result'"
   ]
  },
  {
   "cell_type": "code",
   "execution_count": 26,
   "metadata": {},
   "outputs": [],
   "source": [
    "def getDisplayResults(phoneData):\n",
    "    for phoneData in phoneData:\n",
    "        display(HTML('<h1>{} - ID : {} </h1> <img src=\"{}\" > '.format(phoneData['name'],phoneData['id'],phoneData['img'])))"
   ]
  },
  {
   "cell_type": "code",
   "execution_count": 35,
   "metadata": {},
   "outputs": [
    {
     "data": {
      "text/html": [
       "<h1>apple iphone se  - ID : 7969 </h1> <img src=\"https://cdn2.gsmarena.com/vv/bigpic/apple-iphone-5se-ofic.jpg\" > "
      ],
      "text/plain": [
       "<IPython.core.display.HTML object>"
      ]
     },
     "metadata": {},
     "output_type": "display_data"
    },
    {
     "data": {
      "text/html": [
       "<h1>apple iphone 3gs  - ID : 2826 </h1> <img src=\"https://cdn2.gsmarena.com/vv/bigpic/apple-iphone-3gs-ofic.jpg\" > "
      ],
      "text/plain": [
       "<IPython.core.display.HTML object>"
      ]
     },
     "metadata": {},
     "output_type": "display_data"
    }
   ],
   "source": [
    "getDisplayResults(GetResults('apple iphone s'))"
   ]
  },
  {
   "cell_type": "code",
   "execution_count": 199,
   "metadata": {},
   "outputs": [],
   "source": [
    "dx=GetResults('iphone')\n"
   ]
  },
  {
   "cell_type": "markdown",
   "metadata": {},
   "source": [
    "## ShowReviews and Phone's Details\n",
    "\n",
    "- Create getPhonebyID To get specific Phone based on its ID (We will use this Function Later )\n",
    "- Create UrlPhone For Routing Theese Quires\n",
    "- Create getPhoneDetails to Filter and Display phone's Details Easly \n",
    "- Create getPhoneReviews to Display Phone's Reviews"
   ]
  },
  {
   "cell_type": "code",
   "execution_count": 84,
   "metadata": {},
   "outputs": [],
   "source": [
    "def getPhonebyID(id,dataset):\n",
    "    for data in dataset:\n",
    "        if(str(id)==data[\"id\"]):\n",
    "                return {'href': data['href'],'name': data['name'],'id': data['id'],'img': data['img']}\n",
    "            \n",
    "    "
   ]
  },
  {
   "cell_type": "code",
   "execution_count": 121,
   "metadata": {},
   "outputs": [],
   "source": [
    "def urlphone(phone):\n",
    "    return \"https://www.gsmarena.com/{}\".format(phone)"
   ]
  },
  {
   "cell_type": "code",
   "execution_count": 168,
   "metadata": {},
   "outputs": [],
   "source": [
    "def getPhoneDetails(id,data):\n",
    "    phone=getPhonebyID(id,data)\n",
    "    html=urlopen(urlphone(phone['href']))\n",
    "    soup = BeautifulSoup(html, 'html.parser')\n",
    "    review = soup.find(\"ul\", {\"class\": \"specs-spotlight-features\"}).find_all('li')\n",
    "    for e in review:\n",
    "        display(HTML(e.text))\n",
    "    \n",
    "    display(HTML('<img src={}>'.format(phone['img'] )))\n",
    "    "
   ]
  },
  {
   "cell_type": "code",
   "execution_count": null,
   "metadata": {},
   "outputs": [],
   "source": [
    "def getPhoneReviews(id,data):\n",
    "    phone=getPhonebyID(id,data)\n",
    "    html=urlopen(urlphone(phone['href']))\n",
    "    soup = BeautifulSoup(html, 'html.parser')\n",
    "    review = soup.find_all(\"p\", {\"class\": \"uopin\"})\n",
    "    for r in review:\n",
    "        display(HTML('- {}'.format(r.text)))"
   ]
  },
  {
   "cell_type": "markdown",
   "metadata": {},
   "source": [
    "### Let's Make a Small Test about How we can Make a query string Search to get some data about specific Phone !\n",
    "- Start Search by GetResults() and Try Displaying it getDisplayResults() Using To Client To Select What's Phone he need to know about it !\n",
    "- Then Select specific Phone's id and Try to Check it inner getPhoneDetails() To Get phone's Details \n",
    "- Then Select specific Phone's id and Try to Check it inner getPhoneReviews() To Get phone's user reviews"
   ]
  },
  {
   "cell_type": "code",
   "execution_count": 202,
   "metadata": {},
   "outputs": [
    {
     "data": {
      "text/html": [
       "<h1>apple iphone 6s  - ID : 7242 </h1> <img src=\"https://cdn2.gsmarena.com/vv/bigpic/apple-iphone-6s1.jpg\" > "
      ],
      "text/plain": [
       "<IPython.core.display.HTML object>"
      ]
     },
     "metadata": {},
     "output_type": "display_data"
    },
    {
     "data": {
      "text/html": [
       "<h1>apple iphone 6  - ID : 6378 </h1> <img src=\"https://cdn2.gsmarena.com/vv/bigpic/apple-iphone-6-4.jpg\" > "
      ],
      "text/plain": [
       "<IPython.core.display.HTML object>"
      ]
     },
     "metadata": {},
     "output_type": "display_data"
    },
    {
     "data": {
      "text/html": [
       "<h1>apple iphone 7  - ID : 8064 </h1> <img src=\"https://cdn2.gsmarena.com/vv/bigpic/apple-iphone-7r4.jpg\" > "
      ],
      "text/plain": [
       "<IPython.core.display.HTML object>"
      ]
     },
     "metadata": {},
     "output_type": "display_data"
    },
    {
     "data": {
      "text/html": [
       "<h1>apple iphone 7 plus  - ID : 8065 </h1> <img src=\"https://cdn2.gsmarena.com/vv/bigpic/apple-iphone-7-plus-r2.jpg\" > "
      ],
      "text/plain": [
       "<IPython.core.display.HTML object>"
      ]
     },
     "metadata": {},
     "output_type": "display_data"
    },
    {
     "data": {
      "text/html": [
       "<h1>apple iphone 6s plus  - ID : 7243 </h1> <img src=\"https://cdn2.gsmarena.com/vv/bigpic/apple-iphone-6s-plus.jpg\" > "
      ],
      "text/plain": [
       "<IPython.core.display.HTML object>"
      ]
     },
     "metadata": {},
     "output_type": "display_data"
    },
    {
     "data": {
      "text/html": [
       "<h1>apple iphone xs max  - ID : 9319 </h1> <img src=\"https://cdn2.gsmarena.com/vv/bigpic/apple-iphone-xs-max-new1.jpg\" > "
      ],
      "text/plain": [
       "<IPython.core.display.HTML object>"
      ]
     },
     "metadata": {},
     "output_type": "display_data"
    },
    {
     "data": {
      "text/html": [
       "<h1>apple iphone 8 plus  - ID : 8131 </h1> <img src=\"https://cdn2.gsmarena.com/vv/bigpic/apple-iphone-8-plus-new.jpg\" > "
      ],
      "text/plain": [
       "<IPython.core.display.HTML object>"
      ]
     },
     "metadata": {},
     "output_type": "display_data"
    },
    {
     "data": {
      "text/html": [
       "<h1>apple iphone x  - ID : 8858 </h1> <img src=\"https://cdn2.gsmarena.com/vv/bigpic/apple-iphone-x.jpg\" > "
      ],
      "text/plain": [
       "<IPython.core.display.HTML object>"
      ]
     },
     "metadata": {},
     "output_type": "display_data"
    },
    {
     "data": {
      "text/html": [
       "<h1>apple iphone se  - ID : 7969 </h1> <img src=\"https://cdn2.gsmarena.com/vv/bigpic/apple-iphone-5se-ofic.jpg\" > "
      ],
      "text/plain": [
       "<IPython.core.display.HTML object>"
      ]
     },
     "metadata": {},
     "output_type": "display_data"
    },
    {
     "data": {
      "text/html": [
       "<h1>apple iphone 5s  - ID : 5685 </h1> <img src=\"https://cdn2.gsmarena.com/vv/bigpic/apple-iphone-5s-ofic.jpg\" > "
      ],
      "text/plain": [
       "<IPython.core.display.HTML object>"
      ]
     },
     "metadata": {},
     "output_type": "display_data"
    },
    {
     "data": {
      "text/html": [
       "<h1>apple iphone xr  - ID : 9320 </h1> <img src=\"https://cdn2.gsmarena.com/vv/bigpic/apple-iphone-xr-new.jpg\" > "
      ],
      "text/plain": [
       "<IPython.core.display.HTML object>"
      ]
     },
     "metadata": {},
     "output_type": "display_data"
    },
    {
     "data": {
      "text/html": [
       "<h1>apple iphone 6 plus  - ID : 6665 </h1> <img src=\"https://cdn2.gsmarena.com/vv/bigpic/apple-iphone-6-plus2.jpg\" > "
      ],
      "text/plain": [
       "<IPython.core.display.HTML object>"
      ]
     },
     "metadata": {},
     "output_type": "display_data"
    },
    {
     "data": {
      "text/html": [
       "<h1>apple iphone xs  - ID : 9318 </h1> <img src=\"https://cdn2.gsmarena.com/vv/bigpic/apple-iphone-xs-new.jpg\" > "
      ],
      "text/plain": [
       "<IPython.core.display.HTML object>"
      ]
     },
     "metadata": {},
     "output_type": "display_data"
    },
    {
     "data": {
      "text/html": [
       "<h1>apple iphone 5  - ID : 4910 </h1> <img src=\"https://cdn2.gsmarena.com/vv/bigpic/apple-iphone-5-ofic.jpg\" > "
      ],
      "text/plain": [
       "<IPython.core.display.HTML object>"
      ]
     },
     "metadata": {},
     "output_type": "display_data"
    },
    {
     "data": {
      "text/html": [
       "<h1>apple iphone 8  - ID : 8573 </h1> <img src=\"https://cdn2.gsmarena.com/vv/bigpic/apple-iphone-8-new.jpg\" > "
      ],
      "text/plain": [
       "<IPython.core.display.HTML object>"
      ]
     },
     "metadata": {},
     "output_type": "display_data"
    },
    {
     "data": {
      "text/html": [
       "<h1>apple iphone 4s  - ID : 4212 </h1> <img src=\"https://cdn2.gsmarena.com/vv/bigpic/apple-iphone-4s-new.jpg\" > "
      ],
      "text/plain": [
       "<IPython.core.display.HTML object>"
      ]
     },
     "metadata": {},
     "output_type": "display_data"
    },
    {
     "data": {
      "text/html": [
       "<h1>apple iphone 5c  - ID : 5690 </h1> <img src=\"https://cdn2.gsmarena.com/vv/bigpic/apple-iphone-5c-new2.jpg\" > "
      ],
      "text/plain": [
       "<IPython.core.display.HTML object>"
      ]
     },
     "metadata": {},
     "output_type": "display_data"
    },
    {
     "data": {
      "text/html": [
       "<h1>apple iphone 4  - ID : 3275 </h1> <img src=\"https://cdn2.gsmarena.com/vv/bigpic/apple-iphone-4-ofic-final.jpg\" > "
      ],
      "text/plain": [
       "<IPython.core.display.HTML object>"
      ]
     },
     "metadata": {},
     "output_type": "display_data"
    },
    {
     "data": {
      "text/html": [
       "<h1>xiaomi mi 3  - ID : 5678 </h1> <img src=\"https://cdn2.gsmarena.com/vv/bigpic/xiaomi-mi3.jpg\" > "
      ],
      "text/plain": [
       "<IPython.core.display.HTML object>"
      ]
     },
     "metadata": {},
     "output_type": "display_data"
    },
    {
     "data": {
      "text/html": [
       "<h1>apple iphone 3gs  - ID : 2826 </h1> <img src=\"https://cdn2.gsmarena.com/vv/bigpic/apple-iphone-3gs-ofic.jpg\" > "
      ],
      "text/plain": [
       "<IPython.core.display.HTML object>"
      ]
     },
     "metadata": {},
     "output_type": "display_data"
    },
    {
     "data": {
      "text/html": [
       "<h1>apple iphone  - ID : 1827 </h1> <img src=\"https://cdn2.gsmarena.com/vv/bigpic/apple-iphone.gif\" > "
      ],
      "text/plain": [
       "<IPython.core.display.HTML object>"
      ]
     },
     "metadata": {},
     "output_type": "display_data"
    },
    {
     "data": {
      "text/html": [
       "<h1>apple iphone 3g  - ID : 2424 </h1> <img src=\"https://cdn2.gsmarena.com/vv/bigpic/apple-iphone3g.jpg\" > "
      ],
      "text/plain": [
       "<IPython.core.display.HTML object>"
      ]
     },
     "metadata": {},
     "output_type": "display_data"
    },
    {
     "data": {
      "text/html": [
       "<h1>apple iphone 4 cdma  - ID : 3716 </h1> <img src=\"https://cdn2.gsmarena.com/vv/bigpic/apple-iphone4-cdma.jpg\" > "
      ],
      "text/plain": [
       "<IPython.core.display.HTML object>"
      ]
     },
     "metadata": {},
     "output_type": "display_data"
    },
    {
     "data": {
      "text/html": [
       "<h1>prestigio multiphone 5508 duo  - ID : 6876 </h1> <img src=\"https://cdn2.gsmarena.com/vv/bigpic/prestigio-multiphone-5508-duo.jpg\" > "
      ],
      "text/plain": [
       "<IPython.core.display.HTML object>"
      ]
     },
     "metadata": {},
     "output_type": "display_data"
    },
    {
     "data": {
      "text/html": [
       "<h1>prestigio multiphone 5044 duo  - ID : 5718 </h1> <img src=\"https://cdn2.gsmarena.com/vv/bigpic/prestigio-multiphone-5044-duo.jpg\" > "
      ],
      "text/plain": [
       "<IPython.core.display.HTML object>"
      ]
     },
     "metadata": {},
     "output_type": "display_data"
    },
    {
     "data": {
      "text/html": [
       "<h1>prestigio multiphone 7600 duo  - ID : 6205 </h1> <img src=\"https://cdn2.gsmarena.com/vv/bigpic/prestigio-multiphone-7600-duo.jpg\" > "
      ],
      "text/plain": [
       "<IPython.core.display.HTML object>"
      ]
     },
     "metadata": {},
     "output_type": "display_data"
    },
    {
     "data": {
      "text/html": [
       "<h1>prestigio multiphone 7500  - ID : 6204 </h1> <img src=\"https://cdn2.gsmarena.com/vv/bigpic/prestigio-multiphone-7500.jpg\" > "
      ],
      "text/plain": [
       "<IPython.core.display.HTML object>"
      ]
     },
     "metadata": {},
     "output_type": "display_data"
    },
    {
     "data": {
      "text/html": [
       "<h1>prestigio multiphone 5504 duo  - ID : 6875 </h1> <img src=\"https://cdn2.gsmarena.com/vv/bigpic/prestigio-multiphone-5504-duo.jpg\" > "
      ],
      "text/plain": [
       "<IPython.core.display.HTML object>"
      ]
     },
     "metadata": {},
     "output_type": "display_data"
    },
    {
     "data": {
      "text/html": [
       "<h1>prestigio multiphone 5300 duo  - ID : 5719 </h1> <img src=\"https://cdn2.gsmarena.com/vv/bigpic/prestigio-multiphone-5300-duo.jpg\" > "
      ],
      "text/plain": [
       "<IPython.core.display.HTML object>"
      ]
     },
     "metadata": {},
     "output_type": "display_data"
    },
    {
     "data": {
      "text/html": [
       "<h1>prestigio multiphone 5400 duo  - ID : 5720 </h1> <img src=\"https://cdn2.gsmarena.com/vv/bigpic/prestigio-multiphone-5400-duo.jpg\" > "
      ],
      "text/plain": [
       "<IPython.core.display.HTML object>"
      ]
     },
     "metadata": {},
     "output_type": "display_data"
    },
    {
     "data": {
      "text/html": [
       "<h1>prestigio multiphone 3400 duo  - ID : 5888 </h1> <img src=\"https://cdn2.gsmarena.com/vv/bigpic/prestigio-MultiPhone-3400-DUO.jpg\" > "
      ],
      "text/plain": [
       "<IPython.core.display.HTML object>"
      ]
     },
     "metadata": {},
     "output_type": "display_data"
    },
    {
     "data": {
      "text/html": [
       "<h1>prestigio multiphone 3540 duo  - ID : 5708 </h1> <img src=\"https://cdn2.gsmarena.com/vv/bigpic/prestigio-multiphone-3540-duo.jpg\" > "
      ],
      "text/plain": [
       "<IPython.core.display.HTML object>"
      ]
     },
     "metadata": {},
     "output_type": "display_data"
    },
    {
     "data": {
      "text/html": [
       "<h1>prestigio multiphone 4505 duo  - ID : 5716 </h1> <img src=\"https://cdn2.gsmarena.com/vv/bigpic/prestigio-multiphone-4505-duo.jpg\" > "
      ],
      "text/plain": [
       "<IPython.core.display.HTML object>"
      ]
     },
     "metadata": {},
     "output_type": "display_data"
    },
    {
     "data": {
      "text/html": [
       "<h1>prestigio multiphone 8500 duo  - ID : 6526 </h1> <img src=\"https://cdn2.gsmarena.com/vv/bigpic/prestigio-multiphone-8500-duo.jpg\" > "
      ],
      "text/plain": [
       "<IPython.core.display.HTML object>"
      ]
     },
     "metadata": {},
     "output_type": "display_data"
    },
    {
     "data": {
      "text/html": [
       "<h1>prestigio multiphone 5000 duo  - ID : 5717 </h1> <img src=\"https://cdn2.gsmarena.com/vv/bigpic/prestigio-multiphone-5000-duo.jpg\" > "
      ],
      "text/plain": [
       "<IPython.core.display.HTML object>"
      ]
     },
     "metadata": {},
     "output_type": "display_data"
    },
    {
     "data": {
      "text/html": [
       "<h1>prestigio multiphone 5450 duo  - ID : 6200 </h1> <img src=\"https://cdn2.gsmarena.com/vv/bigpic/prestigio-multiphone-5450-duo.jpg\" > "
      ],
      "text/plain": [
       "<IPython.core.display.HTML object>"
      ]
     },
     "metadata": {},
     "output_type": "display_data"
    },
    {
     "data": {
      "text/html": [
       "<h1>prestigio multiphone 8400 duo  - ID : 6527 </h1> <img src=\"https://cdn2.gsmarena.com/vv/bigpic/prestigio-multiphone-8400-duo.jpg\" > "
      ],
      "text/plain": [
       "<IPython.core.display.HTML object>"
      ]
     },
     "metadata": {},
     "output_type": "display_data"
    },
    {
     "data": {
      "text/html": [
       "<h1>prestigio multiphone 4044 duo  - ID : 5710 </h1> <img src=\"https://cdn2.gsmarena.com/vv/bigpic/prestigio-multiphone-4044-duo.jpg\" > "
      ],
      "text/plain": [
       "<IPython.core.display.HTML object>"
      ]
     },
     "metadata": {},
     "output_type": "display_data"
    },
    {
     "data": {
      "text/html": [
       "<h1>prestigio multiphone 4300 duo  - ID : 5713 </h1> <img src=\"https://cdn2.gsmarena.com/vv/bigpic/prestigio-multiphone-4300-duo.jpg\" > "
      ],
      "text/plain": [
       "<IPython.core.display.HTML object>"
      ]
     },
     "metadata": {},
     "output_type": "display_data"
    },
    {
     "data": {
      "text/html": [
       "<h1>prestigio multiphone 5500 duo  - ID : 6202 </h1> <img src=\"https://cdn2.gsmarena.com/vv/bigpic/prestigio-multiphone-5500-duo.jpg\" > "
      ],
      "text/plain": [
       "<IPython.core.display.HTML object>"
      ]
     },
     "metadata": {},
     "output_type": "display_data"
    },
    {
     "data": {
      "text/html": [
       "<h1>prestigio multiphone 5501 duo  - ID : 6203 </h1> <img src=\"https://cdn2.gsmarena.com/vv/bigpic/prestigio-multiphone-5501-duo.jpg\" > "
      ],
      "text/plain": [
       "<IPython.core.display.HTML object>"
      ]
     },
     "metadata": {},
     "output_type": "display_data"
    },
    {
     "data": {
      "text/html": [
       "<h1>prestigio multiphone 5503 duo  - ID : 6874 </h1> <img src=\"https://cdn2.gsmarena.com/vv/bigpic/prestigio-multiphone-5503-duo.jpg\" > "
      ],
      "text/plain": [
       "<IPython.core.display.HTML object>"
      ]
     },
     "metadata": {},
     "output_type": "display_data"
    },
    {
     "data": {
      "text/html": [
       "<h1>prestigio multiphone 4040 duo  - ID : 5709 </h1> <img src=\"https://cdn2.gsmarena.com/vv/bigpic/prestigio-multiphone-4040-duo.jpg\" > "
      ],
      "text/plain": [
       "<IPython.core.display.HTML object>"
      ]
     },
     "metadata": {},
     "output_type": "display_data"
    },
    {
     "data": {
      "text/html": [
       "<h1>prestigio multiphone 4055 duo  - ID : 5712 </h1> <img src=\"https://cdn2.gsmarena.com/vv/bigpic/prestigio-multiphone-4055-duo.jpg\" > "
      ],
      "text/plain": [
       "<IPython.core.display.HTML object>"
      ]
     },
     "metadata": {},
     "output_type": "display_data"
    },
    {
     "data": {
      "text/html": [
       "<h1>prestigio multiphone 4500 duo  - ID : 5715 </h1> <img src=\"https://cdn2.gsmarena.com/vv/bigpic/prestigio-multiphone-4500-duo.jpg\" > "
      ],
      "text/plain": [
       "<IPython.core.display.HTML object>"
      ]
     },
     "metadata": {},
     "output_type": "display_data"
    },
    {
     "data": {
      "text/html": [
       "<h1>prestigio multiphone 5451 duo  - ID : 6201 </h1> <img src=\"https://cdn2.gsmarena.com/vv/bigpic/prestigio-multiphone-5450-duo.jpg\" > "
      ],
      "text/plain": [
       "<IPython.core.display.HTML object>"
      ]
     },
     "metadata": {},
     "output_type": "display_data"
    },
    {
     "data": {
      "text/html": [
       "<h1>prestigio multiphone 4322 duo  - ID : 5714 </h1> <img src=\"https://cdn2.gsmarena.com/vv/bigpic/prestigio-multiphone-4322-duo.jpg\" > "
      ],
      "text/plain": [
       "<IPython.core.display.HTML object>"
      ]
     },
     "metadata": {},
     "output_type": "display_data"
    },
    {
     "data": {
      "text/html": [
       "<h1>prestigio multiphone 5430 duo  - ID : 5721 </h1> <img src=\"https://cdn2.gsmarena.com/vv/bigpic/prestigio-multiphone-5430-duo.jpg\" > "
      ],
      "text/plain": [
       "<IPython.core.display.HTML object>"
      ]
     },
     "metadata": {},
     "output_type": "display_data"
    }
   ],
   "source": [
    "getDisplayResults(GetResults('iphone'))"
   ]
  },
  {
   "cell_type": "code",
   "execution_count": 203,
   "metadata": {},
   "outputs": [
    {
     "data": {
      "text/html": [
       "\n",
       "Released 2015, September\n",
       "143g, 7.1mm thickness\n",
       "iOS 9, up to iOS 12.1.3\n",
       "16/32/64/128GB storage, no card slot\n",
       "\n"
      ],
      "text/plain": [
       "<IPython.core.display.HTML object>"
      ]
     },
     "metadata": {},
     "output_type": "display_data"
    },
    {
     "data": {
      "text/html": [
       "\n",
       " 32%\n",
       "38,155,263 hits"
      ],
      "text/plain": [
       "<IPython.core.display.HTML object>"
      ]
     },
     "metadata": {},
     "output_type": "display_data"
    },
    {
     "data": {
      "text/html": [
       "\n",
       "\n",
       "1189\n",
       "Become a fan\n",
       "\n"
      ],
      "text/plain": [
       "<IPython.core.display.HTML object>"
      ]
     },
     "metadata": {},
     "output_type": "display_data"
    },
    {
     "data": {
      "text/html": [
       "\n",
       "\n",
       "4.7\"750x1334 pixels\n"
      ],
      "text/plain": [
       "<IPython.core.display.HTML object>"
      ]
     },
     "metadata": {},
     "output_type": "display_data"
    },
    {
     "data": {
      "text/html": [
       "\n",
       "\n",
       "12MP\n",
       " 2160p"
      ],
      "text/plain": [
       "<IPython.core.display.HTML object>"
      ]
     },
     "metadata": {},
     "output_type": "display_data"
    },
    {
     "data": {
      "text/html": [
       "\n",
       "\n",
       "2GB RAM\n",
       "Apple A9"
      ],
      "text/plain": [
       "<IPython.core.display.HTML object>"
      ]
     },
     "metadata": {},
     "output_type": "display_data"
    },
    {
     "data": {
      "text/html": [
       "\n",
       "\n",
       "1715mAhLi-Ion"
      ],
      "text/plain": [
       "<IPython.core.display.HTML object>"
      ]
     },
     "metadata": {},
     "output_type": "display_data"
    },
    {
     "data": {
      "text/html": [
       "<img src=https://cdn2.gsmarena.com/vv/bigpic/apple-iphone-6s1.jpg>"
      ],
      "text/plain": [
       "<IPython.core.display.HTML object>"
      ]
     },
     "metadata": {},
     "output_type": "display_data"
    }
   ],
   "source": [
    "getPhoneDetails('7242',GetResults('iphone'))"
   ]
  },
  {
   "cell_type": "code",
   "execution_count": 192,
   "metadata": {
    "scrolled": false
   },
   "outputs": [
    {
     "data": {
      "text/html": [
       "- Nokia with android one"
      ],
      "text/plain": [
       "<IPython.core.display.HTML object>"
      ]
     },
     "metadata": {},
     "output_type": "display_data"
    },
    {
     "data": {
      "text/html": [
       "- My Mom Has An Iphone 8 Plus. When I Tried To Touch To Change Letters On Her Iphone. In Ebay It Doesnt Work. With My Fingers To Touch the Screen. At All. I Am An Android User. And Android Is Very Easy To Change Letters. "
      ],
      "text/plain": [
       "<IPython.core.display.HTML object>"
      ]
     },
     "metadata": {},
     "output_type": "display_data"
    },
    {
     "data": {
      "text/html": [
       "- Despite the common belief that modern smartphones cannot overcharge the battery, I still think it's a thing that still happens. Energy generates heat, and heat damages the battery. I saw a thread on Reddit asking users what their chargers and chargin..."
      ],
      "text/plain": [
       "<IPython.core.display.HTML object>"
      ]
     },
     "metadata": {},
     "output_type": "display_data"
    }
   ],
   "source": [
    "getPhoneReviews('8131',dx)"
   ]
  },
  {
   "cell_type": "markdown",
   "metadata": {},
   "source": [
    "#### How can you use it?\n",
    "<b>Can be used in the system of comparison between smart phones and will be subject to many and many nominations, Filters,Recommendation Systems , but this is a prototype of the idea and how to rely on this site(https://www.gsmarena.com) without using a database or any other data provider</b>\n",
    "\n",
    "by : Loai abdalslam and never forget this name ;)"
   ]
  },
  {
   "cell_type": "code",
   "execution_count": 204,
   "metadata": {},
   "outputs": [
    {
     "data": {
      "text/html": [
       "<h2> Review Mobile Phone Using GSMRENA </h2> <img src=\"https://cdn2.gsmarena.com/w/css/logo-gsmarena-com.gif\" >"
      ],
      "text/plain": [
       "<IPython.core.display.HTML object>"
      ]
     },
     "metadata": {},
     "output_type": "display_data"
    }
   ],
   "source": [
    "display(HTML('<h2> Review Mobile Phone Using GSMRENA </h2> <img src=\"https://cdn2.gsmarena.com/w/css/logo-gsmarena-com.gif\" >'))"
   ]
  },
  {
   "cell_type": "code",
   "execution_count": null,
   "metadata": {},
   "outputs": [],
   "source": []
  }
 ],
 "metadata": {
  "kernelspec": {
   "display_name": "Python 3",
   "language": "python",
   "name": "python3"
  },
  "language_info": {
   "codemirror_mode": {
    "name": "ipython",
    "version": 3
   },
   "file_extension": ".py",
   "mimetype": "text/x-python",
   "name": "python",
   "nbconvert_exporter": "python",
   "pygments_lexer": "ipython3",
   "version": "3.7.0"
  }
 },
 "nbformat": 4,
 "nbformat_minor": 2
}
